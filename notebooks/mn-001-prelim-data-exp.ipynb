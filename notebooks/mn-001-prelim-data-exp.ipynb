{
 "cells": [
  {
   "cell_type": "code",
   "execution_count": 42,
   "metadata": {},
   "outputs": [],
   "source": [
    "import pandas as pd\n",
    "import numpy as np\n",
    "import matplotlib.pyplot as plt"
   ]
  },
  {
   "cell_type": "code",
   "execution_count": 47,
   "metadata": {},
   "outputs": [],
   "source": [
    "def read_raw(name=\"train\", path=\"../data/raw/\"):\n",
    "    texts = []\n",
    "    with open(path + name + \"_text.txt\", \"r\") as f:\n",
    "        for line in f:\n",
    "            texts.append(line)\n",
    "    with open(path + name + \"_labels.txt\", \"r\") as f:\n",
    "        labels = []\n",
    "        for line in f:\n",
    "            labels.append(line)\n",
    "    return texts, labels\n",
    "\n",
    "def make_df(texts, labels):\n",
    "    df = pd.DataFrame({\"text\": texts, \"label\": labels})\n",
    "    df[\"label\"] = df[\"label\"].apply(lambda x: x.strip())\n",
    "    df[\"label\"] = df[\"label\"].apply(lambda x: int(x))\n",
    "    return df\n",
    "\n",
    "def make_df_from_raw(name=\"train\", path=\"../data/raw/\"):\n",
    "    texts, labels = read_raw(name, path)\n",
    "    df = make_df(texts, labels)\n",
    "    return df\n",
    "\n",
    "train = make_df_from_raw(\"train\")\n",
    "test = make_df_from_raw(\"test\")\n",
    "val = make_df_from_raw(\"val\")"
   ]
  },
  {
   "cell_type": "code",
   "execution_count": 48,
   "metadata": {},
   "outputs": [],
   "source": [
    "train.to_csv(\"../data/bronze/train.csv\", index=False)\n",
    "test.to_csv(\"../data/bronze/test.csv\", index=False)\n",
    "val.to_csv(\"../data/bronze/val.csv\", index=False)"
   ]
  },
  {
   "cell_type": "code",
   "execution_count": 49,
   "metadata": {},
   "outputs": [
    {
     "data": {
      "text/html": [
       "<div>\n",
       "<style scoped>\n",
       "    .dataframe tbody tr th:only-of-type {\n",
       "        vertical-align: middle;\n",
       "    }\n",
       "\n",
       "    .dataframe tbody tr th {\n",
       "        vertical-align: top;\n",
       "    }\n",
       "\n",
       "    .dataframe thead th {\n",
       "        text-align: right;\n",
       "    }\n",
       "</style>\n",
       "<table border=\"1\" class=\"dataframe\">\n",
       "  <thead>\n",
       "    <tr style=\"text-align: right;\">\n",
       "      <th></th>\n",
       "      <th>label</th>\n",
       "      <th>emoji</th>\n",
       "      <th>name</th>\n",
       "    </tr>\n",
       "  </thead>\n",
       "  <tbody>\n",
       "    <tr>\n",
       "      <th>0</th>\n",
       "      <td>0</td>\n",
       "      <td>❤</td>\n",
       "      <td>_red_heart_</td>\n",
       "    </tr>\n",
       "    <tr>\n",
       "      <th>1</th>\n",
       "      <td>1</td>\n",
       "      <td>😍</td>\n",
       "      <td>_smiling_face_with_hearteyes_</td>\n",
       "    </tr>\n",
       "    <tr>\n",
       "      <th>2</th>\n",
       "      <td>2</td>\n",
       "      <td>😂</td>\n",
       "      <td>_face_with_tears_of_joy_</td>\n",
       "    </tr>\n",
       "    <tr>\n",
       "      <th>3</th>\n",
       "      <td>3</td>\n",
       "      <td>💕</td>\n",
       "      <td>_two_hearts_</td>\n",
       "    </tr>\n",
       "    <tr>\n",
       "      <th>4</th>\n",
       "      <td>4</td>\n",
       "      <td>🔥</td>\n",
       "      <td>_fire_</td>\n",
       "    </tr>\n",
       "  </tbody>\n",
       "</table>\n",
       "</div>"
      ],
      "text/plain": [
       "   label emoji                           name\n",
       "0      0     ❤                    _red_heart_\n",
       "1      1     😍  _smiling_face_with_hearteyes_\n",
       "2      2     😂       _face_with_tears_of_joy_\n",
       "3      3     💕                   _two_hearts_\n",
       "4      4     🔥                         _fire_"
      ]
     },
     "execution_count": 49,
     "metadata": {},
     "output_type": "execute_result"
    }
   ],
   "source": [
    "mapping = pd.read_csv(\"../data/raw/mapping.txt\", sep=\"\\t\", header=None)\n",
    "mapping.columns = [\"label\", \"emoji\", \"name\", \"unk\"]\n",
    "mapping = mapping.drop(columns=[\"unk\"])\n",
    "\n",
    "mapping.to_csv(\"../data/bronze/mapping.csv\", index=False)\n",
    "\n",
    "mapping.head()"
   ]
  },
  {
   "cell_type": "code",
   "execution_count": 50,
   "metadata": {},
   "outputs": [
    {
     "data": {
      "text/html": [
       "<div>\n",
       "<style scoped>\n",
       "    .dataframe tbody tr th:only-of-type {\n",
       "        vertical-align: middle;\n",
       "    }\n",
       "\n",
       "    .dataframe tbody tr th {\n",
       "        vertical-align: top;\n",
       "    }\n",
       "\n",
       "    .dataframe thead th {\n",
       "        text-align: right;\n",
       "    }\n",
       "</style>\n",
       "<table border=\"1\" class=\"dataframe\">\n",
       "  <thead>\n",
       "    <tr style=\"text-align: right;\">\n",
       "      <th></th>\n",
       "      <th>text</th>\n",
       "      <th>label</th>\n",
       "    </tr>\n",
       "  </thead>\n",
       "  <tbody>\n",
       "    <tr>\n",
       "      <th>0</th>\n",
       "      <td>Sunday afternoon walking through Venice in the...</td>\n",
       "      <td>12</td>\n",
       "    </tr>\n",
       "    <tr>\n",
       "      <th>1</th>\n",
       "      <td>Time for some BBQ and whiskey libations. Chomp...</td>\n",
       "      <td>19</td>\n",
       "    </tr>\n",
       "    <tr>\n",
       "      <th>2</th>\n",
       "      <td>Love love love all these people ️ ️ ️ #friends...</td>\n",
       "      <td>0</td>\n",
       "    </tr>\n",
       "    <tr>\n",
       "      <th>3</th>\n",
       "      <td>️ ️ ️ ️ @ Toys\"R\"Us \\n</td>\n",
       "      <td>0</td>\n",
       "    </tr>\n",
       "    <tr>\n",
       "      <th>4</th>\n",
       "      <td>Man these are the funniest kids ever!! That fa...</td>\n",
       "      <td>2</td>\n",
       "    </tr>\n",
       "    <tr>\n",
       "      <th>...</th>\n",
       "      <td>...</td>\n",
       "      <td>...</td>\n",
       "    </tr>\n",
       "    <tr>\n",
       "      <th>44995</th>\n",
       "      <td>Here to celebrate the Nunez wedding! Love my b...</td>\n",
       "      <td>0</td>\n",
       "    </tr>\n",
       "    <tr>\n",
       "      <th>44996</th>\n",
       "      <td>1 night in Paris.... Wait... @ Paris Las Vegas...</td>\n",
       "      <td>1</td>\n",
       "    </tr>\n",
       "    <tr>\n",
       "      <th>44997</th>\n",
       "      <td>Be safe this weekend everyone. #happylaborday ...</td>\n",
       "      <td>11</td>\n",
       "    </tr>\n",
       "    <tr>\n",
       "      <th>44998</th>\n",
       "      <td>Pizza (@ Five50 - @user in Las Vegas, NV) \\n</td>\n",
       "      <td>1</td>\n",
       "    </tr>\n",
       "    <tr>\n",
       "      <th>44999</th>\n",
       "      <td>my mini is perfect, no one deserves her @ Las ...</td>\n",
       "      <td>13</td>\n",
       "    </tr>\n",
       "  </tbody>\n",
       "</table>\n",
       "<p>45000 rows × 2 columns</p>\n",
       "</div>"
      ],
      "text/plain": [
       "                                                    text  label\n",
       "0      Sunday afternoon walking through Venice in the...     12\n",
       "1      Time for some BBQ and whiskey libations. Chomp...     19\n",
       "2      Love love love all these people ️ ️ ️ #friends...      0\n",
       "3                                 ️ ️ ️ ️ @ Toys\"R\"Us \\n      0\n",
       "4      Man these are the funniest kids ever!! That fa...      2\n",
       "...                                                  ...    ...\n",
       "44995  Here to celebrate the Nunez wedding! Love my b...      0\n",
       "44996  1 night in Paris.... Wait... @ Paris Las Vegas...      1\n",
       "44997  Be safe this weekend everyone. #happylaborday ...     11\n",
       "44998       Pizza (@ Five50 - @user in Las Vegas, NV) \\n      1\n",
       "44999  my mini is perfect, no one deserves her @ Las ...     13\n",
       "\n",
       "[45000 rows x 2 columns]"
      ]
     },
     "execution_count": 50,
     "metadata": {},
     "output_type": "execute_result"
    }
   ],
   "source": [
    "train"
   ]
  },
  {
   "cell_type": "code",
   "execution_count": 77,
   "metadata": {},
   "outputs": [
    {
     "data": {
      "image/png": "[encoded data removed]",
      "text/plain": [
       "<Figure size 1500x400 with 3 Axes>"
      ]
     },
     "metadata": {},
     "output_type": "display_data"
    }
   ],
   "source": [
    "fig, axs = plt.subplots(1, 3, figsize=(15, 4), sharex=True)\n",
    "\n",
    "fig.suptitle(\"Distribution of Labels in Train, Test, and Validation\")\n",
    "\n",
    "for df, i, name in zip([train, test, val], range(3), [\"Train\", \"Test\", \"Validation\"]):\n",
    "    df[\"label\"].value_counts().sort_index().plot(kind=\"bar\", ax=axs[i])\n",
    "    axs[i].set_title(name)\n",
    "\n",
    "    # text with total number in the top right corner\n",
    "    total = f\"Total: {df.shape[0]}\"\n",
    "    axs[i].text(0.7, 0.8, total, transform=axs[i].transAxes)\n",
    "\n",
    "    # set x label\n",
    "    axs[i].set_xlabel(\"Label\")\n",
    "\n",
    "axs[0].set_ylabel(\"Count of samples\")\n",
    "\n",
    "plt.tight_layout()\n",
    "plt.savefig(\"figures/label-distribution.pdf\")"
   ]
  },
  {
   "cell_type": "code",
   "execution_count": 93,
   "metadata": {},
   "outputs": [
    {
     "name": "stdout",
     "output_type": "stream",
     "text": [
      "\\begin{tabular}{rll}\n",
      "\\toprule\n",
      "Label & Emoji & Name \\\\\n",
      "\\midrule\n",
      "0 & \\emoji{red-heart} & \\texttt{\\_red\\_heart\\_} \\\\\n",
      "1 & \\emoji{smiling-face-with-hearteyes} & \\texttt{\\_smiling\\_face\\_with\\_hearteyes\\_} \\\\\n",
      "2 & \\emoji{face-with-tears-of-joy} & \\texttt{\\_face\\_with\\_tears\\_of\\_joy\\_} \\\\\n",
      "3 & \\emoji{two-hearts} & \\texttt{\\_two\\_hearts\\_} \\\\\n",
      "4 & \\emoji{fire} & \\texttt{\\_fire\\_} \\\\\n",
      "5 & \\emoji{smiling-face-with-smiling-eyes} & \\texttt{\\_smiling\\_face\\_with\\_smiling\\_eyes\\_} \\\\\n",
      "6 & \\emoji{smiling-face-with-sunglasses} & \\texttt{\\_smiling\\_face\\_with\\_sunglasses\\_} \\\\\n",
      "7 & \\emoji{sparkles} & \\texttt{\\_sparkles\\_} \\\\\n",
      "8 & \\emoji{blue-heart} & \\texttt{\\_blue\\_heart\\_} \\\\\n",
      "9 & \\emoji{face-blowing-a-kiss} & \\texttt{\\_face\\_blowing\\_a\\_kiss\\_} \\\\\n",
      "10 & \\emoji{camera} & \\texttt{\\_camera\\_} \\\\\n",
      "11 & \\emoji{united-states} & \\texttt{\\_united\\_states\\_} \\\\\n",
      "12 & \\emoji{sun} & \\texttt{\\_sun\\_} \\\\\n",
      "13 & \\emoji{purple-heart} & \\texttt{\\_purple\\_heart\\_} \\\\\n",
      "14 & \\emoji{winking-face} & \\texttt{\\_winking\\_face\\_} \\\\\n",
      "15 & \\emoji{hundred-points} & \\texttt{\\_hundred\\_points\\_} \\\\\n",
      "16 & \\emoji{beaming-face-with-smiling-eyes} & \\texttt{\\_beaming\\_face\\_with\\_smiling\\_eyes\\_} \\\\\n",
      "17 & \\emoji{christmas-tree} & \\texttt{\\_christmas\\_tree\\_} \\\\\n",
      "18 & \\emoji{camera-with-flash} & \\texttt{\\_camera\\_with\\_flash\\_} \\\\\n",
      "19 & \\emoji{winking-face-with-tongue} & \\texttt{\\_winking\\_face\\_with\\_tongue\\_} \\\\\n",
      "\\bottomrule\n",
      "\\end{tabular}\n",
      "\n"
     ]
    }
   ],
   "source": [
    "latex_table = mapping.copy()\n",
    "latex_table[\"name\"] = latex_table[\"name\"].str.lower()\n",
    "latex_table[\"emoji\"] = latex_table[\"name\"]\\\n",
    "    .apply(lambda x: x[1:-1]) \\\n",
    "    .apply(lambda x: x.replace(\"_\", \"-\")) \\\n",
    "    .apply(lambda x: \"\\emoji{\" + x +\"}\")\n",
    "latex_table[\"name\"] = latex_table[\"name\"]\\\n",
    "    .str.replace(\"_\", \"\\\\_\")\\\n",
    "    .apply(lambda x: \"\\\\texttt{\" + x + \"}\")\n",
    "latex_table.columns = [\"Label\", \"Emoji\", \"Name\"]\n",
    "latex_table = latex_table.to_latex(index=False)\n",
    "\n",
    "print(latex_table)"
   ]
  },
  {
   "cell_type": "code",
   "execution_count": null,
   "metadata": {},
   "outputs": [],
   "source": []
  }
 ],
 "metadata": {
  "kernelspec": {
   "display_name": "Python 3",
   "language": "python",
   "name": "python3"
  },
  "language_info": {
   "codemirror_mode": {
    "name": "ipython",
    "version": 3
   },
   "file_extension": ".py",
   "mimetype": "text/x-python",
   "name": "python",
   "nbconvert_exporter": "python",
   "pygments_lexer": "ipython3",
   "version": "3.11.5"
  }
 },
 "nbformat": 4,
 "nbformat_minor": 2
}
