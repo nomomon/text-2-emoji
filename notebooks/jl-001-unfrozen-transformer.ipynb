{
 "cells": [
  {
   "cell_type": "code",
   "execution_count": 1,
   "metadata": {},
   "outputs": [],
   "source": [
    "# Import model for sequence classification transformer\n",
    "from transformers import AutoModelForSequenceClassification\n",
    "from transformers import AutoTokenizer\n",
    "\n",
    "from torch.utils.data import DataLoader\n",
    "from torch.utils.data import Dataset\n",
    "\n",
    "# import undersampler\n",
    "from imblearn.under_sampling import RandomUnderSampler\n",
    "\n",
    "# Import over sampler\n",
    "\n",
    "\n",
    "from tqdm.notebook import tqdm\n",
    "import matplotlib.pyplot as plt\n",
    "\n",
    "# import torch\n",
    "import torch\n",
    "import numpy as np\n",
    "\n",
    "import pandas as pd\n",
    "import gc"
   ]
  },
  {
   "cell_type": "code",
   "execution_count": 2,
   "metadata": {},
   "outputs": [],
   "source": [
    "train = pd.read_csv('../data/bronze/train.csv')\n",
    "\n",
    "val = pd.read_csv('../data/bronze/valid.csv')"
   ]
  },
  {
   "cell_type": "code",
   "execution_count": 3,
   "metadata": {},
   "outputs": [],
   "source": [
    "# labels = train['label']\n",
    "# features = train['text']\n",
    "\n",
    "# # undersample train\n",
    "# rus = RandomUnderSampler(random_state=42)\n",
    "# train_features, train_labels = rus.fit_resample(features.to_frame(), labels)\n",
    "\n",
    "# # remove labels from train_features\n",
    "# train_features = train_features['text']\n",
    "# print(train_features)\n",
    "\n",
    "# # Convert to pandas dataframe\n",
    "# train_features = pd.DataFrame(train_features, columns=['text'])\n",
    "# train_labels = pd.DataFrame(train_labels, columns=['label'])\n",
    "\n",
    "# train = pd.concat([train_features, train_labels], axis=1)\n",
    "\n",
    "# # change the order of the rows\n",
    "# train = train.sample(frac=1).reset_index(drop=True)\n",
    "# train.head()"
   ]
  },
  {
   "cell_type": "code",
   "execution_count": 4,
   "metadata": {},
   "outputs": [],
   "source": [
    "results = pd.DataFrame(columns=['learning_rate', 'val_accuracy', 'val_loss', 'train_accuracy', 'train_loss', 'training_losses', 'validation_losses', 'model'])\n",
    "model_name = \"bert-base-uncased\""
   ]
  },
  {
   "cell_type": "code",
   "execution_count": 5,
   "metadata": {},
   "outputs": [],
   "source": [
    "def train_epoch(model, device, train_loader, optimizer):\n",
    "\n",
    "    model.train()\n",
    "    losses = []\n",
    "    correct_predictions = 0\n",
    "    for batch in tqdm(train_loader, desc=\"Training\", unit=\"batch\"):\n",
    "        input_ids = batch['input_ids'].to(device)\n",
    "        attention_mask = batch['attention_mask'].to(device)\n",
    "        labels = batch['label'].to(device)\n",
    "        outputs = model(input_ids, attention_mask=attention_mask, labels=labels)\n",
    "\n",
    "        loss = outputs.loss\n",
    "        logits = outputs.logits\n",
    "        preds = torch.argmax(logits, dim=1)\n",
    "        correct_predictions += torch.sum(preds == labels)\n",
    "        losses.append(loss.item())\n",
    "        loss.backward()\n",
    "        optimizer.step()\n",
    "        optimizer.zero_grad()\n",
    "\n",
    "        # Free up GPU memory\n",
    "        del input_ids\n",
    "        del attention_mask\n",
    "        del labels\n",
    "        del outputs\n",
    "        del loss\n",
    "        del logits\n",
    "        del preds\n",
    "        torch.cuda.empty_cache()\n",
    "        gc.collect()\n",
    "\n",
    "    \n",
    "    return (correct_predictions.double() / len(train_loader.dataset)).item(), sum(losses) / len(losses)"
   ]
  },
  {
   "cell_type": "code",
   "execution_count": 6,
   "metadata": {},
   "outputs": [],
   "source": [
    "def eval_model(model, device, val_loader):\n",
    "    model.eval()\n",
    "    losses = []\n",
    "    correct_predictions = 0\n",
    "    with torch.no_grad():\n",
    "        for batch in tqdm(val_loader, desc=\"Validation\", unit=\"batch\"):\n",
    "            input_ids = batch['input_ids'].to(device)\n",
    "            attention_mask = batch['attention_mask'].to(device)\n",
    "            labels = batch['label'].to(device)\n",
    "            outputs = model(input_ids, attention_mask=attention_mask, labels=labels)\n",
    "            loss = outputs.loss\n",
    "            logits = outputs.logits\n",
    "            preds = torch.argmax(logits, dim=1)\n",
    "            correct_predictions += torch.sum(preds == labels)\n",
    "            losses.append(loss.item())\n",
    "    \n",
    "    return (correct_predictions.double() / len(val_loader.dataset)).item(), sum(losses) / len(losses)"
   ]
  },
  {
   "cell_type": "code",
   "execution_count": 7,
   "metadata": {},
   "outputs": [],
   "source": [
    "class CustomDataset(Dataset):\n",
    "    def __init__(self, text, label, tokenizer, max_len):\n",
    "        self.text = text\n",
    "        self.label = label\n",
    "        self.tokenizer = tokenizer\n",
    "        self.max_len = max_len\n",
    "\n",
    "    def __len__(self):\n",
    "        return len(self.text)\n",
    "\n",
    "    def __getitem__(self, idx):\n",
    "        text = str(self.text[idx])\n",
    "        label = self.label[idx]\n",
    "\n",
    "        encoding = self.tokenizer.encode_plus(\n",
    "            text,\n",
    "            add_special_tokens=True,\n",
    "            max_length=self.max_len,\n",
    "            return_token_type_ids=False,\n",
    "            padding='max_length',\n",
    "            return_attention_mask=True,\n",
    "            return_tensors='pt',\n",
    "        )\n",
    "\n",
    "        return {\n",
    "            'text': text,\n",
    "            'input_ids': encoding['input_ids'].flatten(),\n",
    "            'attention_mask': encoding['attention_mask'].flatten(),\n",
    "            'label': torch.tensor(label, dtype=torch.long)\n",
    "        }"
   ]
  },
  {
   "cell_type": "code",
   "execution_count": 8,
   "metadata": {},
   "outputs": [],
   "source": [
    "def create_data_loader(df, tokenizer, max_len, batch_size):\n",
    "    ds = CustomDataset(\n",
    "        text=df.text.to_numpy(),\n",
    "        label=df.label.to_numpy(),\n",
    "        tokenizer=tokenizer,\n",
    "        max_len=max_len\n",
    "    )\n",
    "    \n",
    "    return DataLoader(\n",
    "        ds,\n",
    "        batch_size=batch_size,\n",
    "    )"
   ]
  },
  {
   "cell_type": "code",
   "execution_count": 9,
   "metadata": {},
   "outputs": [
    {
     "name": "stderr",
     "output_type": "stream",
     "text": [
      "Some weights of BertForSequenceClassification were not initialized from the model checkpoint at bert-base-uncased and are newly initialized: ['classifier.bias', 'classifier.weight']\n",
      "You should probably TRAIN this model on a down-stream task to be able to use it for predictions and inference.\n"
     ]
    },
    {
     "name": "stdout",
     "output_type": "stream",
     "text": [
      "cuda\n"
     ]
    },
    {
     "data": {
      "application/vnd.jupyter.widget-view+json": {
       "model_id": "238ff96f3e614ffdb1ad5d5c059ac0b7",
       "version_major": 2,
       "version_minor": 0
      },
      "text/plain": [
       "  0%|          | 0/20 [00:00<?, ?it/s]"
      ]
     },
     "metadata": {},
     "output_type": "display_data"
    },
    {
     "data": {
      "application/vnd.jupyter.widget-view+json": {
       "model_id": "9f45653032ae464eb2b8fc512c09cec0",
       "version_major": 2,
       "version_minor": 0
      },
      "text/plain": [
       "Training:   0%|          | 0/352 [00:00<?, ?batch/s]"
      ]
     },
     "metadata": {},
     "output_type": "display_data"
    },
    {
     "data": {
      "application/vnd.jupyter.widget-view+json": {
       "model_id": "07056bcc6ec0402da07a1ad7f9d4bc36",
       "version_major": 2,
       "version_minor": 0
      },
      "text/plain": [
       "Validation:   0%|          | 0/40 [00:00<?, ?batch/s]"
      ]
     },
     "metadata": {},
     "output_type": "display_data"
    },
    {
     "name": "stdout",
     "output_type": "stream",
     "text": [
      "Epoch: 01\n",
      "Train Loss: 2.502 | Train Acc: 27.04%\n",
      "Val Loss: 2.276 | Val Acc: 31.80%\n"
     ]
    },
    {
     "data": {
      "application/vnd.jupyter.widget-view+json": {
       "model_id": "686e793b302b4ce8a6c65210b499b27c",
       "version_major": 2,
       "version_minor": 0
      },
      "text/plain": [
       "Training:   0%|          | 0/352 [00:00<?, ?batch/s]"
      ]
     },
     "metadata": {},
     "output_type": "display_data"
    },
    {
     "data": {
      "application/vnd.jupyter.widget-view+json": {
       "model_id": "319d8a12faa146aa89fcfb1083124534",
       "version_major": 2,
       "version_minor": 0
      },
      "text/plain": [
       "Validation:   0%|          | 0/40 [00:00<?, ?batch/s]"
      ]
     },
     "metadata": {},
     "output_type": "display_data"
    },
    {
     "name": "stdout",
     "output_type": "stream",
     "text": [
      "Epoch: 02\n",
      "Train Loss: 2.198 | Train Acc: 34.86%\n",
      "Val Loss: 2.182 | Val Acc: 35.38%\n"
     ]
    },
    {
     "data": {
      "application/vnd.jupyter.widget-view+json": {
       "model_id": "cc0c99e700384f2fb21930e5e2e95456",
       "version_major": 2,
       "version_minor": 0
      },
      "text/plain": [
       "Training:   0%|          | 0/352 [00:00<?, ?batch/s]"
      ]
     },
     "metadata": {},
     "output_type": "display_data"
    },
    {
     "data": {
      "application/vnd.jupyter.widget-view+json": {
       "model_id": "18e19fe87b7c43e1982fca8d4490e402",
       "version_major": 2,
       "version_minor": 0
      },
      "text/plain": [
       "Validation:   0%|          | 0/40 [00:00<?, ?batch/s]"
      ]
     },
     "metadata": {},
     "output_type": "display_data"
    },
    {
     "name": "stdout",
     "output_type": "stream",
     "text": [
      "Epoch: 03\n",
      "Train Loss: 2.061 | Train Acc: 38.44%\n",
      "Val Loss: 2.176 | Val Acc: 36.06%\n"
     ]
    },
    {
     "data": {
      "application/vnd.jupyter.widget-view+json": {
       "model_id": "11956313ef6d49d0bb294ce1972f1f07",
       "version_major": 2,
       "version_minor": 0
      },
      "text/plain": [
       "Training:   0%|          | 0/352 [00:00<?, ?batch/s]"
      ]
     },
     "metadata": {},
     "output_type": "display_data"
    },
    {
     "data": {
      "application/vnd.jupyter.widget-view+json": {
       "model_id": "4358fb63878c4fa483cba35b0495633f",
       "version_major": 2,
       "version_minor": 0
      },
      "text/plain": [
       "Validation:   0%|          | 0/40 [00:00<?, ?batch/s]"
      ]
     },
     "metadata": {},
     "output_type": "display_data"
    },
    {
     "name": "stdout",
     "output_type": "stream",
     "text": [
      "Epoch: 04\n",
      "Train Loss: 1.943 | Train Acc: 41.48%\n",
      "Val Loss: 2.204 | Val Acc: 35.76%\n",
      "Training Losses: [2.50163237 2.19772665 2.06141274]\n"
     ]
    }
   ],
   "source": [
    "# Train the model using a list of learning rates\n",
    "learning_rates = [5e-5]\n",
    "\n",
    "MAX_LEN = 100\n",
    "BATCH_SIZE = 128\n",
    "\n",
    "# Loop through the learning rates and append the results to the results dataframe\n",
    "for learning_rate in learning_rates:\n",
    "    # Define the model\n",
    "    model = AutoModelForSequenceClassification.from_pretrained(model_name, num_labels=20, hidden_dropout_prob=0.3)\n",
    "\n",
    "    # Define the tokenizer\n",
    "    tokenizer = AutoTokenizer.from_pretrained(model_name)\n",
    "\n",
    "    train_loader = create_data_loader(train, tokenizer, MAX_LEN, BATCH_SIZE)\n",
    "\n",
    "    val_loader = create_data_loader(val, tokenizer, MAX_LEN, BATCH_SIZE)\n",
    "\n",
    "    device = torch.device('cuda') if torch.cuda.is_available() else torch.device('cpu')\n",
    "    print(device)\n",
    "\n",
    "    model.to(device)\n",
    "\n",
    "    optimizer = torch.optim.AdamW(model.parameters(), lr=learning_rate)\n",
    "\n",
    "    EPOCHS = 20\n",
    "\n",
    "    training_losses, validation_losses = [], []\n",
    "\n",
    "    for epoch in tqdm(range(EPOCHS)):\n",
    "\n",
    "        train_accuracy, train_loss = train_epoch(model, device, train_loader, optimizer)\n",
    "\n",
    "        # Get the validation accuracy and loss\n",
    "        val_accuracy, val_loss = eval_model(model, device, val_loader)\n",
    "\n",
    "        # print the results\n",
    "        print(f'Epoch: {epoch+1:02}')\n",
    "        print(f'Train Loss: {train_loss:.3f} | Train Acc: {train_accuracy*100:.2f}%')\n",
    "        print(f'Val Loss: {val_loss:.3f} | Val Acc: {val_accuracy*100:.2f}%')\n",
    "\n",
    "        # Use early stopping, if val accuracy does not improve for 2 epochs, stop training\n",
    "        if epoch > 1 and val_loss > max(validation_losses[-2:]):\n",
    "            break\n",
    "    \n",
    "        training_losses.append(train_loss)\n",
    "        validation_losses.append(val_loss)\n",
    "\n",
    "    # Convert to numpy arrays\n",
    "    training_losses = np.array(training_losses)\n",
    "    validation_losses = np.array(validation_losses)\n",
    "\n",
    "    print(f'Training Losses: {training_losses}')\n",
    "    \n",
    "    # Append the results to the results dataframe\n",
    "    row = {\n",
    "        'learning_rate': learning_rate,\n",
    "        'val_accuracy': val_accuracy,\n",
    "        'val_loss': val_loss, \n",
    "        'train_accuracy': train_accuracy, \n",
    "        'train_loss': train_loss, \n",
    "        'training_losses': training_losses, \n",
    "        'validation_losses': validation_losses, \n",
    "        'model': model\n",
    "    }\n",
    "\n",
    "    # Concatenate the results to the results dataframe\n",
    "    results.loc[len(results)] = row\n",
    "        "
   ]
  },
  {
   "cell_type": "code",
   "execution_count": 10,
   "metadata": {},
   "outputs": [
    {
     "data": {
      "text/html": [
       "<div>\n",
       "<style scoped>\n",
       "    .dataframe tbody tr th:only-of-type {\n",
       "        vertical-align: middle;\n",
       "    }\n",
       "\n",
       "    .dataframe tbody tr th {\n",
       "        vertical-align: top;\n",
       "    }\n",
       "\n",
       "    .dataframe thead th {\n",
       "        text-align: right;\n",
       "    }\n",
       "</style>\n",
       "<table border=\"1\" class=\"dataframe\">\n",
       "  <thead>\n",
       "    <tr style=\"text-align: right;\">\n",
       "      <th></th>\n",
       "      <th>learning_rate</th>\n",
       "      <th>val_accuracy</th>\n",
       "      <th>val_loss</th>\n",
       "      <th>train_accuracy</th>\n",
       "      <th>train_loss</th>\n",
       "      <th>training_losses</th>\n",
       "      <th>validation_losses</th>\n",
       "      <th>model</th>\n",
       "    </tr>\n",
       "  </thead>\n",
       "  <tbody>\n",
       "    <tr>\n",
       "      <th>0</th>\n",
       "      <td>0.00005</td>\n",
       "      <td>0.3576</td>\n",
       "      <td>2.204496</td>\n",
       "      <td>0.414756</td>\n",
       "      <td>1.942668</td>\n",
       "      <td>[2.5016323687000708, 2.197726645591584, 2.0614...</td>\n",
       "      <td>[2.2764282405376433, 2.1821257799863814, 2.175...</td>\n",
       "      <td>BertForSequenceClassification(\\n  (bert): Bert...</td>\n",
       "    </tr>\n",
       "  </tbody>\n",
       "</table>\n",
       "</div>"
      ],
      "text/plain": [
       "   learning_rate  val_accuracy  val_loss  train_accuracy  train_loss  \\\n",
       "0        0.00005        0.3576  2.204496        0.414756    1.942668   \n",
       "\n",
       "                                     training_losses  \\\n",
       "0  [2.5016323687000708, 2.197726645591584, 2.0614...   \n",
       "\n",
       "                                   validation_losses  \\\n",
       "0  [2.2764282405376433, 2.1821257799863814, 2.175...   \n",
       "\n",
       "                                               model  \n",
       "0  BertForSequenceClassification(\\n  (bert): Bert...  "
      ]
     },
     "execution_count": 10,
     "metadata": {},
     "output_type": "execute_result"
    }
   ],
   "source": [
    "# Get the best results using validation loss and save them to a csv\n",
    "best_results = results.sort_values(by=['val_loss'], ascending=True)\n",
    "best_results.head()"
   ]
  },
  {
   "cell_type": "code",
   "execution_count": 11,
   "metadata": {},
   "outputs": [],
   "source": [
    "# Get losses\n",
    "def plot_losses(results):\n",
    "    training_losses = results.iloc[0][\"training_losses\"]\n",
    "    valid_losses = results.iloc[0][\"validation_losses\"]\n",
    "\n",
    "    print(training_losses)\n",
    "\n",
    "    # Plot losses\n",
    "    plt.plot(training_losses, label=\"Training loss\")\n",
    "    plt.plot(valid_losses, label=\"Validation loss\")\n",
    "    plt.legend()\n",
    "    plt.show()\n",
    "\n",
    "    # Save the plot\n",
    "    plt.savefig(\"../out/unfrozen_model/best_losses.png\")"
   ]
  },
  {
   "cell_type": "code",
   "execution_count": 12,
   "metadata": {},
   "outputs": [
    {
     "name": "stdout",
     "output_type": "stream",
     "text": [
      "[2.50163237 2.19772665 2.06141274]\n"
     ]
    },
    {
     "data": {
      "image/png": "[encoded data removed]",
      "text/plain": [
       "<Figure size 640x480 with 1 Axes>"
      ]
     },
     "metadata": {},
     "output_type": "display_data"
    },
    {
     "data": {
      "text/plain": [
       "<Figure size 640x480 with 0 Axes>"
      ]
     },
     "metadata": {},
     "output_type": "display_data"
    }
   ],
   "source": [
    "training_losses = best_results[\"training_losses\"]\n",
    "valid_losses = best_results[\"validation_losses\"]\n",
    "plot_losses(best_results)\n",
    "np.save(\"../out/unfrozen_model/training_losses.npy\", training_losses)\n",
    "np.save(\"../out/unfrozen_model/validation_losses.npy\", valid_losses)\n",
    "\n",
    "# Save the best model\n",
    "best_model = best_results[\"model\"].iloc[0]\n",
    "best_model.save_pretrained(\"../out/unfrozen_model/\")\n",
    "\n",
    "# Remove models and losses from results\n",
    "best_results.drop(\"model\", axis=1, inplace=True)\n",
    "best_results.drop(\"training_losses\", axis=1, inplace=True)\n",
    "best_results.drop(\"validation_losses\", axis=1, inplace=True)\n",
    "\n",
    "best_results.to_csv('../out/unfrozen_model/results.csv', index=False)"
   ]
  }
 ],
 "metadata": {
  "kernelspec": {
   "display_name": "mlp-project-KX1hGorU",
   "language": "python",
   "name": "python3"
  },
  "language_info": {
   "codemirror_mode": {
    "name": "ipython",
    "version": 3
   },
   "file_extension": ".py",
   "mimetype": "text/x-python",
   "name": "python",
   "nbconvert_exporter": "python",
   "pygments_lexer": "ipython3",
   "version": "3.11.5"
  }
 },
 "nbformat": 4,
 "nbformat_minor": 2
}
